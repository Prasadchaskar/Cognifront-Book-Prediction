{
 "cells": [
  {
   "cell_type": "code",
   "execution_count": 89,
   "source": [
    "import pandas as pd \r\n",
    "import numpy as np \r\n",
    "import os\r\n",
    "import cv2\r\n",
    "from keras.preprocessing.image import ImageDataGenerator\r\n",
    "from keras.utils.np_utils import to_categorical\r\n",
    "from keras.models import Sequential\r\n",
    "from keras.layers import Dense,Flatten,Dropout\r\n",
    "from keras.optimizer_v2 import adam\r\n",
    "from keras.layers.convolutional import Conv2D,MaxPooling2D\r\n",
    "from tensorflow.keras import layers\r\n"
   ],
   "outputs": [],
   "metadata": {}
  },
  {
   "cell_type": "code",
   "execution_count": 90,
   "source": [
    "path = 'mydata'\r\n",
    "myList = os.listdir(path)\r\n",
    "noOfClasses = len(myList)"
   ],
   "outputs": [],
   "metadata": {}
  },
  {
   "cell_type": "code",
   "execution_count": 91,
   "source": [
    "images = []\r\n",
    "classNo = []\r\n",
    "for i in range(0,noOfClasses):\r\n",
    "    myPiclist = os.listdir(path+\"/\"+str(i))\r\n",
    "\r\n",
    "    for img in myPiclist:\r\n",
    "        currImg = cv2.imread(path+\"/\"+str(i)+\"/\"+img)\r\n",
    "        currImg = cv2.resize(currImg,(32,32))\r\n",
    "        images.append(currImg)\r\n",
    "        classNo.append(i)\r\n"
   ],
   "outputs": [],
   "metadata": {}
  },
  {
   "cell_type": "code",
   "execution_count": 92,
   "source": [
    "images = np.array(images)\r\n",
    "classNo = np.array(classNo)"
   ],
   "outputs": [],
   "metadata": {}
  },
  {
   "cell_type": "code",
   "execution_count": 93,
   "source": [
    "from sklearn.model_selection import train_test_split\r\n",
    "X_train,X_test,y_train,y_test = train_test_split(images,classNo,test_size=0.2,random_state=43)"
   ],
   "outputs": [],
   "metadata": {}
  },
  {
   "cell_type": "code",
   "execution_count": 94,
   "source": [
    "X_train,X_validtion,y_train,y_validation = train_test_split(X_train,y_train,test_size=0.2,random_state=43)"
   ],
   "outputs": [],
   "metadata": {}
  },
  {
   "cell_type": "code",
   "execution_count": 95,
   "source": [
    "def Preprocessing(imgage):\r\n",
    "    imgage = cv2.cvtColor(imgage,cv2.COLOR_BGR2GRAY)\r\n",
    "    imgage = cv2.equalizeHist(imgage)\r\n",
    "    imgage = imgage / 255\r\n",
    "    return imgage"
   ],
   "outputs": [],
   "metadata": {}
  },
  {
   "cell_type": "code",
   "execution_count": 96,
   "source": [
    "X_train = np.array(list(map(Preprocessing,X_train)))"
   ],
   "outputs": [],
   "metadata": {}
  },
  {
   "cell_type": "code",
   "execution_count": 97,
   "source": [
    "X_test = np.array(list(map(Preprocessing,X_test)))"
   ],
   "outputs": [],
   "metadata": {}
  },
  {
   "cell_type": "code",
   "execution_count": 98,
   "source": [
    "X_validtion = np.array(list(map(Preprocessing,X_validtion)))"
   ],
   "outputs": [],
   "metadata": {}
  },
  {
   "cell_type": "code",
   "execution_count": 99,
   "source": [
    "X_train = X_train.reshape(X_train.shape[0],X_train.shape[1],X_train.shape[2],1)\r\n",
    "X_train.shape"
   ],
   "outputs": [
    {
     "output_type": "execute_result",
     "data": {
      "text/plain": [
       "(6502, 32, 32, 1)"
      ]
     },
     "metadata": {},
     "execution_count": 99
    }
   ],
   "metadata": {}
  },
  {
   "cell_type": "code",
   "execution_count": 100,
   "source": [
    "X_train[0].shape"
   ],
   "outputs": [
    {
     "output_type": "execute_result",
     "data": {
      "text/plain": [
       "(32, 32, 1)"
      ]
     },
     "metadata": {},
     "execution_count": 100
    }
   ],
   "metadata": {}
  },
  {
   "cell_type": "code",
   "execution_count": 101,
   "source": [
    "X_test = X_test.reshape(X_test.shape[0],X_test.shape[1],X_test.shape[2],1)\r\n",
    "X_validtion = X_validtion.reshape(X_validtion.shape[0],X_validtion.shape[1],X_validtion.shape[2],1)"
   ],
   "outputs": [],
   "metadata": {}
  },
  {
   "cell_type": "code",
   "execution_count": 102,
   "source": [
    "dataGen = ImageDataGenerator(width_shift_range=0.1,height_shift_range=0.1,zoom_range=0.2,shear_range=0.1,rotation_range=10)\r\n",
    "dataGen.fit(X_train)"
   ],
   "outputs": [],
   "metadata": {}
  },
  {
   "cell_type": "code",
   "execution_count": 103,
   "source": [
    "y_train = to_categorical(y_train,noOfClasses)\r\n",
    "y_test = to_categorical(y_test,noOfClasses)\r\n",
    "y_validation = to_categorical(y_validation,noOfClasses)"
   ],
   "outputs": [],
   "metadata": {}
  },
  {
   "cell_type": "code",
   "execution_count": 104,
   "source": [
    "X_train.shape"
   ],
   "outputs": [
    {
     "output_type": "execute_result",
     "data": {
      "text/plain": [
       "(6502, 32, 32, 1)"
      ]
     },
     "metadata": {},
     "execution_count": 104
    }
   ],
   "metadata": {}
  },
  {
   "cell_type": "code",
   "execution_count": 106,
   "source": [
    "def myModel():\r\n",
    "    noOfFilters = 60\r\n",
    "    size_filter1 = (5,5)\r\n",
    "    size_filter2 = (3,3)\r\n",
    "    sizePool = (2,2)\r\n",
    "    noOfNodes = 500\r\n",
    "\r\n",
    "    model = Sequential()\r\n",
    "    model.add((Conv2D(noOfFilters,size_filter1,activation='relu',input_shape=(32,32,1))))\r\n",
    "    model.add((Conv2D(noOfFilters,size_filter2,activation='relu')))\r\n",
    "    model.add(MaxPooling2D(pool_size=sizePool))\r\n",
    "    model.add((Conv2D(noOfFilters//2,size_filter2,activation='relu')))\r\n",
    "    model.add((Conv2D(noOfFilters//2,size_filter2,activation='relu')))\r\n",
    "    model.add(MaxPooling2D(pool_size=sizePool))\r\n",
    "    model.add(Dropout(0.5))\r\n",
    "    model.add(Flatten())\r\n",
    "    model.add(Dense(noOfNodes,activation='relu'))\r\n",
    "    model.add(Dropout(0.5))\r\n",
    "    model.add(Dense(noOfClasses,activation='softmax'))\r\n",
    "    model.compile(optimizer='adam',loss='categorical_crossentropy',metrics=['accuracy'])\r\n",
    "    return model\r\n",
    "model = myModel()\r\n"
   ],
   "outputs": [],
   "metadata": {}
  },
  {
   "cell_type": "code",
   "execution_count": 107,
   "source": [
    "model.summary()"
   ],
   "outputs": [
    {
     "output_type": "stream",
     "name": "stdout",
     "text": [
      "Model: \"sequential_9\"\n",
      "_________________________________________________________________\n",
      "Layer (type)                 Output Shape              Param #   \n",
      "=================================================================\n",
      "conv2d_22 (Conv2D)           (None, 28, 28, 60)        1560      \n",
      "_________________________________________________________________\n",
      "conv2d_23 (Conv2D)           (None, 26, 26, 60)        32460     \n",
      "_________________________________________________________________\n",
      "max_pooling2d_14 (MaxPooling (None, 13, 13, 60)        0         \n",
      "_________________________________________________________________\n",
      "conv2d_24 (Conv2D)           (None, 11, 11, 30)        16230     \n",
      "_________________________________________________________________\n",
      "conv2d_25 (Conv2D)           (None, 9, 9, 30)          8130      \n",
      "_________________________________________________________________\n",
      "max_pooling2d_15 (MaxPooling (None, 4, 4, 30)          0         \n",
      "_________________________________________________________________\n",
      "dropout_10 (Dropout)         (None, 4, 4, 30)          0         \n",
      "_________________________________________________________________\n",
      "flatten_6 (Flatten)          (None, 480)               0         \n",
      "_________________________________________________________________\n",
      "dense_12 (Dense)             (None, 500)               240500    \n",
      "_________________________________________________________________\n",
      "dropout_11 (Dropout)         (None, 500)               0         \n",
      "_________________________________________________________________\n",
      "dense_13 (Dense)             (None, 10)                5010      \n",
      "=================================================================\n",
      "Total params: 303,890\n",
      "Trainable params: 303,890\n",
      "Non-trainable params: 0\n",
      "_________________________________________________________________\n"
     ]
    }
   ],
   "metadata": {}
  },
  {
   "cell_type": "code",
   "execution_count": 108,
   "source": [
    "history = model.fit(dataGen.flow(X_train,y_train,batch_size=50),\r\n",
    "                    epochs=10,\r\n",
    "                    validation_data =(X_validtion,y_validation), \r\n",
    "                    shuffle=1\r\n",
    "                    )\r\n",
    "# history = model.fit(X_train,y_train,\r\n",
    "#                     epochs=10,\r\n",
    "#                     validation_data =(X_validtion,y_validation), \r\n",
    "#                     shuffle=1\r\n",
    "#                     )"
   ],
   "outputs": [
    {
     "output_type": "stream",
     "name": "stdout",
     "text": [
      "Epoch 1/10\n",
      "131/131 [==============================] - 5s 27ms/step - loss: 1.2868 - accuracy: 0.5546 - val_loss: 0.1883 - val_accuracy: 0.9625\n",
      "Epoch 2/10\n",
      "131/131 [==============================] - 4s 31ms/step - loss: 0.4504 - accuracy: 0.8567 - val_loss: 0.0798 - val_accuracy: 0.9797\n",
      "Epoch 3/10\n",
      "131/131 [==============================] - 6s 48ms/step - loss: 0.3365 - accuracy: 0.8937 - val_loss: 0.0591 - val_accuracy: 0.9803\n",
      "Epoch 4/10\n",
      "131/131 [==============================] - 7s 56ms/step - loss: 0.2466 - accuracy: 0.9209 - val_loss: 0.0341 - val_accuracy: 0.9938\n",
      "Epoch 5/10\n",
      "131/131 [==============================] - 7s 54ms/step - loss: 0.1921 - accuracy: 0.9403 - val_loss: 0.0350 - val_accuracy: 0.9914\n",
      "Epoch 6/10\n",
      "131/131 [==============================] - 8s 59ms/step - loss: 0.1779 - accuracy: 0.9451 - val_loss: 0.0328 - val_accuracy: 0.9895\n",
      "Epoch 7/10\n",
      "131/131 [==============================] - 7s 56ms/step - loss: 0.1525 - accuracy: 0.9540 - val_loss: 0.0180 - val_accuracy: 0.9951\n",
      "Epoch 8/10\n",
      "131/131 [==============================] - 8s 57ms/step - loss: 0.1508 - accuracy: 0.9502 - val_loss: 0.0282 - val_accuracy: 0.9914\n",
      "Epoch 9/10\n",
      "131/131 [==============================] - 7s 55ms/step - loss: 0.1688 - accuracy: 0.9462 - val_loss: 0.0210 - val_accuracy: 0.9920\n",
      "Epoch 10/10\n",
      "131/131 [==============================] - 7s 54ms/step - loss: 0.1215 - accuracy: 0.9620 - val_loss: 0.0126 - val_accuracy: 0.9957\n"
     ]
    }
   ],
   "metadata": {}
  },
  {
   "cell_type": "code",
   "execution_count": 109,
   "source": [
    "import matplotlib.pyplot as plt \r\n",
    "plt.figure(figsize=(7,6))\r\n",
    "plt.plot(history.history['loss']);\r\n",
    "plt.plot(history.history[\"val_loss\"]);\r\n",
    "plt.legend([\"Training\",\"Validation\"]);\r\n",
    "plt.xlabel(\"epochs\")\r\n",
    "plt.title(\"Loss\");"
   ],
   "outputs": [
    {
     "output_type": "display_data",
     "data": {
      "image/png": "[encoded data removed]",
      "text/plain": [
       "<Figure size 504x432 with 1 Axes>"
      ]
     },
     "metadata": {
      "needs_background": "light"
     }
    }
   ],
   "metadata": {}
  },
  {
   "cell_type": "code",
   "execution_count": 110,
   "source": [
    "plt.figure(figsize=(7,6))\r\n",
    "plt.plot(history.history['accuracy']);\r\n",
    "plt.plot(history.history[\"val_accuracy\"]);\r\n",
    "plt.xlabel(\"epochs\")\r\n",
    "plt.title(\"Accuracy\");"
   ],
   "outputs": [
    {
     "output_type": "display_data",
     "data": {
      "image/png": "[encoded data removed]",
      "text/plain": [
       "<Figure size 504x432 with 1 Axes>"
      ]
     },
     "metadata": {
      "needs_background": "light"
     }
    }
   ],
   "metadata": {}
  },
  {
   "cell_type": "code",
   "execution_count": 111,
   "source": [
    "# import pickle\r\n",
    "# pickle_out = open(\"model_train.p\",'wb')\r\n",
    "# pickle.dump(model,pickle_out)\r\n",
    "# pickle_out.close()"
   ],
   "outputs": [],
   "metadata": {}
  },
  {
   "cell_type": "code",
   "execution_count": 112,
   "source": [
    "model.save(\"myModel\")"
   ],
   "outputs": [
    {
     "output_type": "stream",
     "name": "stdout",
     "text": [
      "INFO:tensorflow:Assets written to: myModel\\assets\n"
     ]
    }
   ],
   "metadata": {}
  },
  {
   "cell_type": "code",
   "execution_count": 113,
   "source": [
    "from tensorflow import keras\r\n",
    "m = keras.models.load_model(\"myModel\")"
   ],
   "outputs": [],
   "metadata": {}
  },
  {
   "cell_type": "code",
   "execution_count": 114,
   "source": [
    "img = cv2.imread('3.jfif')\r\n",
    "i = cv2.resize(img,(32,32))\r\n",
    "i = np.array(i)\r\n",
    "\r\n",
    "i = Preprocessing(i)"
   ],
   "outputs": [],
   "metadata": {}
  },
  {
   "cell_type": "code",
   "execution_count": 115,
   "source": [
    "i =i.reshape(1,32,32,1)"
   ],
   "outputs": [],
   "metadata": {}
  },
  {
   "cell_type": "code",
   "execution_count": 116,
   "source": [
    "p = m.predict(i)"
   ],
   "outputs": [],
   "metadata": {}
  },
  {
   "cell_type": "code",
   "execution_count": 117,
   "source": [
    "for i in p[0]:\r\n",
    "    if i >0.8:\r\n",
    "        print(i)"
   ],
   "outputs": [
    {
     "output_type": "stream",
     "name": "stdout",
     "text": [
      "0.9999974\n"
     ]
    }
   ],
   "metadata": {}
  },
  {
   "cell_type": "code",
   "execution_count": 122,
   "source": [
    "np.argmax(p)"
   ],
   "outputs": [
    {
     "output_type": "execute_result",
     "data": {
      "text/plain": [
       "3"
      ]
     },
     "metadata": {},
     "execution_count": 122
    }
   ],
   "metadata": {}
  },
  {
   "cell_type": "code",
   "execution_count": 123,
   "source": [
    "np.amax(p)"
   ],
   "outputs": [
    {
     "output_type": "execute_result",
     "data": {
      "text/plain": [
       "0.9999974"
      ]
     },
     "metadata": {},
     "execution_count": 123
    }
   ],
   "metadata": {}
  }
 ],
 "metadata": {
  "orig_nbformat": 4,
  "language_info": {
   "name": "python",
   "version": "3.8.5",
   "mimetype": "text/x-python",
   "codemirror_mode": {
    "name": "ipython",
    "version": 3
   },
   "pygments_lexer": "ipython3",
   "nbconvert_exporter": "python",
   "file_extension": ".py"
  },
  "kernelspec": {
   "name": "python3",
   "display_name": "Python 3.8.5 64-bit"
  },
  "interpreter": {
   "hash": "1baa965d5efe3ac65b79dfc60c0d706280b1da80fedb7760faf2759126c4f253"
  }
 },
 "nbformat": 4,
 "nbformat_minor": 2
}